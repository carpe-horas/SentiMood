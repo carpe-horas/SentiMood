{
 "cells": [
  {
   "cell_type": "markdown",
   "metadata": {},
   "source": [
    "## 벡터DB 불러오기"
   ]
  },
  {
   "cell_type": "code",
   "execution_count": null,
   "metadata": {
    "vscode": {
     "languageId": "plaintext"
    }
   },
   "outputs": [],
   "source": [
    "from langchain_community.vectorstores import FAISS\n",
    "from langchain_openai import OpenAIEmbeddings\n",
    "\n",
    "# 저장된 벡터DB 로드\n",
    "vectorstore = FAISS.load_local('../data/db/faiss_counseling', OpenAIEmbeddings())\n",
    "\n",
    "# 검색기 (Retriever) 설정\n",
    "retriever = vectorstore.as_retriever()\n",
    "print(\"벡터DB 로드 및 검색기 설정 완료.\")"
   ]
  }
 ],
 "metadata": {
  "language_info": {
   "name": "python"
  }
 },
 "nbformat": 4,
 "nbformat_minor": 2
}
