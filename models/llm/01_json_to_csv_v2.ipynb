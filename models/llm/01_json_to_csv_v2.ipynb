{
 "cells": [
  {
   "cell_type": "code",
   "execution_count": null,
   "metadata": {},
   "outputs": [],
   "source": [
    "import json\n",
    "import pandas as pd\n",
    "\n",
    "# JSON 파일 불러오기\n",
    "with open(\"emotional_dialogue_training.json\", \"r\", encoding=\"utf-8\") as f:\n",
    "    data = json.load(f)\n",
    "\n",
    "# JSON 데이터를 CSV로 변환하기 위한 리스트 생성\n",
    "rows = []\n",
    "\n",
    "for item in data:\n",
    "    talk = item[\"talk\"][\"content\"]\n",
    "    row = {\n",
    "        \"user_utterance_1\": talk.get(\"HS01\", \"\"),\n",
    "        \"bot_response_1\": talk.get(\"SS01\", \"\"),\n",
    "        \"user_utterance_2\": talk.get(\"HS02\", \"\"),\n",
    "        \"bot_response_2\": talk.get(\"SS02\", \"\"),\n",
    "        \"user_utterance_3\": talk.get(\"HS03\", \"\"),\n",
    "        \"bot_response_3\": talk.get(\"SS03\", \"\"),\n",
    "    }\n",
    "    rows.append(row)\n",
    "\n",
    "# DataFrame 생성\n",
    "df = pd.DataFrame(rows)\n",
    "\n",
    "# CSV 파일로 저장\n",
    "df.to_csv(\"emotional_dialogue_training.csv\", index=False, encoding=\"utf-8-sig\")\n",
    "\n",
    "print(\"CSV 파일 변환 완료: emotional_dialogue_training.csv\")\n"
   ]
  }
 ],
 "metadata": {
  "kernelspec": {
   "display_name": "robotpet",
   "language": "python",
   "name": "python3"
  },
  "language_info": {
   "name": "python",
   "version": "3.10.16"
  }
 },
 "nbformat": 4,
 "nbformat_minor": 2
}
