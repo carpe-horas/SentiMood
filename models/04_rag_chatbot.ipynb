{
 "cells": [
  {
   "cell_type": "markdown",
   "metadata": {},
   "source": [
    "## 환경 설정 & 라이브러리"
   ]
  },
  {
   "cell_type": "code",
   "execution_count": null,
   "metadata": {
    "vscode": {
     "languageId": "plaintext"
    }
   },
   "outputs": [],
   "source": [
    "from dotenv import load_dotenv\n",
    "import os\n",
    "\n",
    "# API KEY 정보 로드\n",
    "load_dotenv()\n",
    "\n",
    "from langchain_openai import ChatOpenAI\n",
    "from langchain_core.prompts import PromptTemplate\n",
    "from langchain_core.runnables import RunnablePassthrough\n",
    "from langchain_core.output_parsers import StrOutputParser"
   ]
  },
  {
   "cell_type": "markdown",
   "metadata": {},
   "source": [
    "## 벡터DB 불러오기"
   ]
  },
  {
   "cell_type": "code",
   "execution_count": null,
   "metadata": {
    "vscode": {
     "languageId": "plaintext"
    }
   },
   "outputs": [],
   "source": [
    "from langchain_community.vectorstores import FAISS\n",
    "from langchain_openai import OpenAIEmbeddings\n",
    "\n",
    "# 저장된 벡터DB 로드\n",
    "vectorstore = FAISS.load_local('../data/db/faiss_counseling', OpenAIEmbeddings())\n",
    "\n",
    "# 검색기 (Retriever) 설정\n",
    "retriever = vectorstore.as_retriever()\n",
    "print(\"벡터DB 로드 및 검색기 설정 완료.\")"
   ]
  },
  {
   "cell_type": "markdown",
   "metadata": {},
   "source": [
    "## 상담 챗봇 프롬프트 최적화"
   ]
  },
  {
   "cell_type": "code",
   "execution_count": null,
   "metadata": {
    "vscode": {
     "languageId": "plaintext"
    }
   },
   "outputs": [],
   "source": [
    "from langchain_core.prompts import PromptTemplate\n",
    "\n",
    "prompt = PromptTemplate.from_template(\n",
    "    \"\"\"당신은 고민을 들어주고 공감하며 상담을 도와주는 AI 챗봇입니다. \n",
    "사용자가 고민을 이야기하면 진심 어린 위로와 함께 적절한 질문을 던져 대화를 이어가세요. \n",
    "만약 사용자의 고민과 유사한 상담 사례가 있다면, 해당 내용을 기반으로 도움을 주세요. \n",
    "그러나 직접적인 해결책을 강요하지 말고, 사용자가 스스로 답을 찾을 수 있도록 도와주세요.\n",
    "\n",
    "사용자의 감정을 존중하며, 다음 원칙을 따릅니다:\n",
    "- 고민을 경청하고 따뜻한 말로 공감 표현을 합니다.\n",
    "- 해결책을 제시하기보다는 열린 질문을 던져 사용자가 답을 찾도록 유도합니다.\n",
    "- 무조건 긍정하지 말고, 현실적인 조언을 하되 부드러운 표현을 사용합니다.\n",
    "- 사용자가 감정을 표현하면, 그 감정을 먼저 인정해줍니다.\n",
    "\n",
    "# 사용자 질문:\n",
    "{question}\n",
    "\n",
    "# 상담 사례:\n",
    "{context}\n",
    "\n",
    "# 챗봇 응답:\n",
    "\"\"\"\n",
    ")\n"
   ]
  },
  {
   "cell_type": "markdown",
   "metadata": {},
   "source": [
    "## RAG 체인 설정"
   ]
  },
  {
   "cell_type": "code",
   "execution_count": null,
   "metadata": {
    "vscode": {
     "languageId": "plaintext"
    }
   },
   "outputs": [],
   "source": [
    "# OpenAI LLM 설정\n",
    "llm = ChatOpenAI(model_name=\"gpt-4o-mini\", temperature=0.7)\n",
    "\n",
    "# RAG 체인 설정\n",
    "rag_chain = (\n",
    "    {\"context\": retriever, \"question\": RunnablePassthrough()}\n",
    "    | prompt\n",
    "    | llm\n",
    "    | StrOutputParser()\n",
    ")"
   ]
  },
  {
   "cell_type": "markdown",
   "metadata": {},
   "source": [
    "## 상담 챗봇 테스트"
   ]
  },
  {
   "cell_type": "code",
   "execution_count": null,
   "metadata": {
    "vscode": {
     "languageId": "plaintext"
    }
   },
   "outputs": [],
   "source": [
    "# 테스트 질문\n",
    "question = \"요즘 너무 우울해요. 어떻게 해야 할까요?\"\n",
    "answer = rag_chain.invoke(question)\n",
    "print(answer)\n",
    "\n",
    "question = \"친구랑 싸웠는데 너무 속상해요.\"\n",
    "answer = rag_chain.invoke(question)\n",
    "print(answer)\n",
    "\n",
    "question = \"부모님과의 관계가 힘들어요.\"\n",
    "answer = rag_chain.invoke(question)\n",
    "print(answer)"
   ]
  }
 ],
 "metadata": {
  "language_info": {
   "name": "python"
  }
 },
 "nbformat": 4,
 "nbformat_minor": 2
}
